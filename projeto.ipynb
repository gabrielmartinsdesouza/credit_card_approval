{
 "cells": [
  {
   "cell_type": "markdown",
   "id": "20e547ed",
   "metadata": {},
   "source": [
    "## Projeto - Credit Card Approval Prediction"
   ]
  },
  {
   "cell_type": "markdown",
   "id": "c2ff14e3",
   "metadata": {},
   "source": [
    "Esse projeto será realizado através dos datasets contidos em https://www.kaggle.com/datasets/rikdifos/credit-card-approval-prediction\n",
    "\n",
    "No arquivo estão contidos dois datasets:\n",
    "\n",
    "**credit_record**: Este data set possui 3 informações. O *ID* do indivíduo, *MONTHS_BALANCE*, que indica o último pago em relação ao mês corrente e *STATUS* que classifica o tempo de vencimento do pagamento caso tenha sido pego algum crédito, se foi pago no mês ou se não há empréstimo para o indivíduo no mês corrente.\n",
    "\n",
    "**application_record**: Este data set possui informações pessoais referentes a cada indivíduo, que pode ser identificado através do *ID*.\n",
    "\n",
    "Como resultado desse projeto, deve ser criado um programa no qual será possível idenitificar através do input de informações pessoais se um valor de crédito deve ou não ser aprovado para esta pessoa com base no treinamento das informações disponibilizadas. Para isso, deve ser utilizado um modelo de classificação, capaz de classificar o indivíduo entra **apto** e **não apto** a receber o empréstimo."
   ]
  },
  {
   "cell_type": "code",
   "execution_count": 3,
   "id": "9331b26f",
   "metadata": {},
   "outputs": [],
   "source": [
    "import pandas as pd"
   ]
  },
  {
   "cell_type": "code",
   "execution_count": 4,
   "id": "d33f79bd",
   "metadata": {},
   "outputs": [],
   "source": [
    "df_credit_record = pd.read_csv(\"datasets/credit_record.csv\")\n",
    "df_application_record = pd.read_csv(\"datasets/application_record.csv\")"
   ]
  },
  {
   "cell_type": "markdown",
   "id": "7a080bd4",
   "metadata": {},
   "source": [
    "Analistando primeiro o dataset que contém as informações é possível perceber que parte das informações de cada indivíduo estão em atributos categóricos e outros em atributos numéricos. Contudo alguns valores categóricos estão em colunas classificadas como numéricas devido a sinalização da categoria ser feita de maneira binária (0-1) Felizmente, no kaggle foi disponibilizado um dicionário dos dados, descrevendo as informações contida em cada um dos atributos."
   ]
  },
  {
   "cell_type": "code",
   "execution_count": 19,
   "id": "fd49be6d",
   "metadata": {},
   "outputs": [
    {
     "data": {
      "text/plain": [
       "(438557, 18)"
      ]
     },
     "execution_count": 19,
     "metadata": {},
     "output_type": "execute_result"
    }
   ],
   "source": [
    "df_application_record.shape"
   ]
  },
  {
   "cell_type": "code",
   "execution_count": 5,
   "id": "995a9833",
   "metadata": {},
   "outputs": [
    {
     "data": {
      "text/html": [
       "<div>\n",
       "<style scoped>\n",
       "    .dataframe tbody tr th:only-of-type {\n",
       "        vertical-align: middle;\n",
       "    }\n",
       "\n",
       "    .dataframe tbody tr th {\n",
       "        vertical-align: top;\n",
       "    }\n",
       "\n",
       "    .dataframe thead th {\n",
       "        text-align: right;\n",
       "    }\n",
       "</style>\n",
       "<table border=\"1\" class=\"dataframe\">\n",
       "  <thead>\n",
       "    <tr style=\"text-align: right;\">\n",
       "      <th></th>\n",
       "      <th>ID</th>\n",
       "      <th>CODE_GENDER</th>\n",
       "      <th>FLAG_OWN_CAR</th>\n",
       "      <th>FLAG_OWN_REALTY</th>\n",
       "      <th>CNT_CHILDREN</th>\n",
       "      <th>AMT_INCOME_TOTAL</th>\n",
       "      <th>NAME_INCOME_TYPE</th>\n",
       "      <th>NAME_EDUCATION_TYPE</th>\n",
       "      <th>NAME_FAMILY_STATUS</th>\n",
       "      <th>NAME_HOUSING_TYPE</th>\n",
       "      <th>DAYS_BIRTH</th>\n",
       "      <th>DAYS_EMPLOYED</th>\n",
       "      <th>FLAG_MOBIL</th>\n",
       "      <th>FLAG_WORK_PHONE</th>\n",
       "      <th>FLAG_PHONE</th>\n",
       "      <th>FLAG_EMAIL</th>\n",
       "      <th>OCCUPATION_TYPE</th>\n",
       "      <th>CNT_FAM_MEMBERS</th>\n",
       "    </tr>\n",
       "  </thead>\n",
       "  <tbody>\n",
       "    <tr>\n",
       "      <th>0</th>\n",
       "      <td>5008804</td>\n",
       "      <td>M</td>\n",
       "      <td>Y</td>\n",
       "      <td>Y</td>\n",
       "      <td>0</td>\n",
       "      <td>427500.0</td>\n",
       "      <td>Working</td>\n",
       "      <td>Higher education</td>\n",
       "      <td>Civil marriage</td>\n",
       "      <td>Rented apartment</td>\n",
       "      <td>-12005</td>\n",
       "      <td>-4542</td>\n",
       "      <td>1</td>\n",
       "      <td>1</td>\n",
       "      <td>0</td>\n",
       "      <td>0</td>\n",
       "      <td>NaN</td>\n",
       "      <td>2.0</td>\n",
       "    </tr>\n",
       "    <tr>\n",
       "      <th>1</th>\n",
       "      <td>5008805</td>\n",
       "      <td>M</td>\n",
       "      <td>Y</td>\n",
       "      <td>Y</td>\n",
       "      <td>0</td>\n",
       "      <td>427500.0</td>\n",
       "      <td>Working</td>\n",
       "      <td>Higher education</td>\n",
       "      <td>Civil marriage</td>\n",
       "      <td>Rented apartment</td>\n",
       "      <td>-12005</td>\n",
       "      <td>-4542</td>\n",
       "      <td>1</td>\n",
       "      <td>1</td>\n",
       "      <td>0</td>\n",
       "      <td>0</td>\n",
       "      <td>NaN</td>\n",
       "      <td>2.0</td>\n",
       "    </tr>\n",
       "    <tr>\n",
       "      <th>2</th>\n",
       "      <td>5008806</td>\n",
       "      <td>M</td>\n",
       "      <td>Y</td>\n",
       "      <td>Y</td>\n",
       "      <td>0</td>\n",
       "      <td>112500.0</td>\n",
       "      <td>Working</td>\n",
       "      <td>Secondary / secondary special</td>\n",
       "      <td>Married</td>\n",
       "      <td>House / apartment</td>\n",
       "      <td>-21474</td>\n",
       "      <td>-1134</td>\n",
       "      <td>1</td>\n",
       "      <td>0</td>\n",
       "      <td>0</td>\n",
       "      <td>0</td>\n",
       "      <td>Security staff</td>\n",
       "      <td>2.0</td>\n",
       "    </tr>\n",
       "    <tr>\n",
       "      <th>3</th>\n",
       "      <td>5008808</td>\n",
       "      <td>F</td>\n",
       "      <td>N</td>\n",
       "      <td>Y</td>\n",
       "      <td>0</td>\n",
       "      <td>270000.0</td>\n",
       "      <td>Commercial associate</td>\n",
       "      <td>Secondary / secondary special</td>\n",
       "      <td>Single / not married</td>\n",
       "      <td>House / apartment</td>\n",
       "      <td>-19110</td>\n",
       "      <td>-3051</td>\n",
       "      <td>1</td>\n",
       "      <td>0</td>\n",
       "      <td>1</td>\n",
       "      <td>1</td>\n",
       "      <td>Sales staff</td>\n",
       "      <td>1.0</td>\n",
       "    </tr>\n",
       "    <tr>\n",
       "      <th>4</th>\n",
       "      <td>5008809</td>\n",
       "      <td>F</td>\n",
       "      <td>N</td>\n",
       "      <td>Y</td>\n",
       "      <td>0</td>\n",
       "      <td>270000.0</td>\n",
       "      <td>Commercial associate</td>\n",
       "      <td>Secondary / secondary special</td>\n",
       "      <td>Single / not married</td>\n",
       "      <td>House / apartment</td>\n",
       "      <td>-19110</td>\n",
       "      <td>-3051</td>\n",
       "      <td>1</td>\n",
       "      <td>0</td>\n",
       "      <td>1</td>\n",
       "      <td>1</td>\n",
       "      <td>Sales staff</td>\n",
       "      <td>1.0</td>\n",
       "    </tr>\n",
       "  </tbody>\n",
       "</table>\n",
       "</div>"
      ],
      "text/plain": [
       "        ID CODE_GENDER FLAG_OWN_CAR FLAG_OWN_REALTY  CNT_CHILDREN  \\\n",
       "0  5008804           M            Y               Y             0   \n",
       "1  5008805           M            Y               Y             0   \n",
       "2  5008806           M            Y               Y             0   \n",
       "3  5008808           F            N               Y             0   \n",
       "4  5008809           F            N               Y             0   \n",
       "\n",
       "   AMT_INCOME_TOTAL      NAME_INCOME_TYPE            NAME_EDUCATION_TYPE  \\\n",
       "0          427500.0               Working               Higher education   \n",
       "1          427500.0               Working               Higher education   \n",
       "2          112500.0               Working  Secondary / secondary special   \n",
       "3          270000.0  Commercial associate  Secondary / secondary special   \n",
       "4          270000.0  Commercial associate  Secondary / secondary special   \n",
       "\n",
       "     NAME_FAMILY_STATUS  NAME_HOUSING_TYPE  DAYS_BIRTH  DAYS_EMPLOYED  \\\n",
       "0        Civil marriage   Rented apartment      -12005          -4542   \n",
       "1        Civil marriage   Rented apartment      -12005          -4542   \n",
       "2               Married  House / apartment      -21474          -1134   \n",
       "3  Single / not married  House / apartment      -19110          -3051   \n",
       "4  Single / not married  House / apartment      -19110          -3051   \n",
       "\n",
       "   FLAG_MOBIL  FLAG_WORK_PHONE  FLAG_PHONE  FLAG_EMAIL OCCUPATION_TYPE  \\\n",
       "0           1                1           0           0             NaN   \n",
       "1           1                1           0           0             NaN   \n",
       "2           1                0           0           0  Security staff   \n",
       "3           1                0           1           1     Sales staff   \n",
       "4           1                0           1           1     Sales staff   \n",
       "\n",
       "   CNT_FAM_MEMBERS  \n",
       "0              2.0  \n",
       "1              2.0  \n",
       "2              2.0  \n",
       "3              1.0  \n",
       "4              1.0  "
      ]
     },
     "execution_count": 5,
     "metadata": {},
     "output_type": "execute_result"
    }
   ],
   "source": [
    "df_application_record.head()"
   ]
  },
  {
   "cell_type": "code",
   "execution_count": 6,
   "id": "7083c8d5",
   "metadata": {
    "scrolled": false
   },
   "outputs": [
    {
     "name": "stdout",
     "output_type": "stream",
     "text": [
      "<class 'pandas.core.frame.DataFrame'>\n",
      "RangeIndex: 438557 entries, 0 to 438556\n",
      "Data columns (total 18 columns):\n",
      " #   Column               Non-Null Count   Dtype  \n",
      "---  ------               --------------   -----  \n",
      " 0   ID                   438557 non-null  int64  \n",
      " 1   CODE_GENDER          438557 non-null  object \n",
      " 2   FLAG_OWN_CAR         438557 non-null  object \n",
      " 3   FLAG_OWN_REALTY      438557 non-null  object \n",
      " 4   CNT_CHILDREN         438557 non-null  int64  \n",
      " 5   AMT_INCOME_TOTAL     438557 non-null  float64\n",
      " 6   NAME_INCOME_TYPE     438557 non-null  object \n",
      " 7   NAME_EDUCATION_TYPE  438557 non-null  object \n",
      " 8   NAME_FAMILY_STATUS   438557 non-null  object \n",
      " 9   NAME_HOUSING_TYPE    438557 non-null  object \n",
      " 10  DAYS_BIRTH           438557 non-null  int64  \n",
      " 11  DAYS_EMPLOYED        438557 non-null  int64  \n",
      " 12  FLAG_MOBIL           438557 non-null  int64  \n",
      " 13  FLAG_WORK_PHONE      438557 non-null  int64  \n",
      " 14  FLAG_PHONE           438557 non-null  int64  \n",
      " 15  FLAG_EMAIL           438557 non-null  int64  \n",
      " 16  OCCUPATION_TYPE      304354 non-null  object \n",
      " 17  CNT_FAM_MEMBERS      438557 non-null  float64\n",
      "dtypes: float64(2), int64(8), object(8)\n",
      "memory usage: 60.2+ MB\n"
     ]
    }
   ],
   "source": [
    "df_application_record.info()"
   ]
  },
  {
   "cell_type": "markdown",
   "id": "a7e58ffb",
   "metadata": {},
   "source": [
    "É possível perceber que os atributos: *FLAG_MOBIL*, *FLAG_WORK_PHONE*, *FLAG_PHONE* e *FLAG_EMAIL* são na verdade atributos categóricos apesar de terem sido carregados automáticamente como valores inteiros."
   ]
  },
  {
   "cell_type": "code",
   "execution_count": 15,
   "id": "9ecb8b58",
   "metadata": {},
   "outputs": [
    {
     "data": {
      "text/plain": [
       "0"
      ]
     },
     "execution_count": 15,
     "metadata": {},
     "output_type": "execute_result"
    }
   ],
   "source": [
    "# Verificando linhas duplicadas\n",
    "df_application_record.duplicated().sum()"
   ]
  },
  {
   "cell_type": "code",
   "execution_count": 25,
   "id": "3c81e528",
   "metadata": {},
   "outputs": [
    {
     "data": {
      "text/plain": [
       "0         False\n",
       "1         False\n",
       "2         False\n",
       "3         False\n",
       "4         False\n",
       "          ...  \n",
       "438552    False\n",
       "438553    False\n",
       "438554    False\n",
       "438555    False\n",
       "438556    False\n",
       "Name: ID, Length: 438557, dtype: bool"
      ]
     },
     "execution_count": 25,
     "metadata": {},
     "output_type": "execute_result"
    }
   ],
   "source": [
    "# Verificando se há duplicidade de IDs\n",
    "df_application_record[\"ID\"].duplicated()"
   ]
  },
  {
   "cell_type": "markdown",
   "id": "ce4e55c8",
   "metadata": {},
   "source": [
    "Foram identificados 47 IDs repetidos. Contudo, devido a grande quantidade de linhas disponíveis e diferentes informações para o mesmo ID, optarei por remover as linhas de IDs repetidas para que não tenha o input de informações incorretas sob um custo de informação baixo comparado a quantidade total de linhas na base de dados (0,0001%)."
   ]
  },
  {
   "cell_type": "code",
   "execution_count": 36,
   "id": "774f774c",
   "metadata": {},
   "outputs": [
    {
     "data": {
      "text/plain": [
       "0.00010716964955524595"
      ]
     },
     "execution_count": 36,
     "metadata": {},
     "output_type": "execute_result"
    }
   ],
   "source": [
    "47/df_application_record.shape[0]"
   ]
  },
  {
   "cell_type": "code",
   "execution_count": 40,
   "id": "996709df",
   "metadata": {},
   "outputs": [],
   "source": [
    "# Removendo os IDs duplicados.\n",
    "df_application_record = df_application_record[df_application_record[\"ID\"].duplicated() == False].copy()"
   ]
  },
  {
   "cell_type": "markdown",
   "id": "013572cd",
   "metadata": {},
   "source": [
    "Observando os outros atributos, *DAYS_BIRTH* e *DAYS_EMPLOYED* podem ser convertidos para valores do tipo data. Contudo, como estamos tentando realizar um input em modelo de classificação, o tempo em dias pode ser uma forma mais adequada para a utilização, não necessitando de uma transformação ao formato de data."
   ]
  },
  {
   "cell_type": "markdown",
   "id": "958a579a",
   "metadata": {},
   "source": [
    "### Análise Exploratória dos Dados\n",
    "\n",
    "Para iniciar a EDA, irei inicialmente separar os dados em categóricos e não categóricos, possibilitando a análise em partes. Iniciarei a EDA pelos dados não categóricos, que são a maior parte dos atributos do dataset."
   ]
  },
  {
   "cell_type": "code",
   "execution_count": 50,
   "id": "821627c6",
   "metadata": {},
   "outputs": [
    {
     "data": {
      "text/plain": [
       "['ID',\n",
       " 'CODE_GENDER',\n",
       " 'FLAG_OWN_CAR',\n",
       " 'FLAG_OWN_REALTY',\n",
       " 'CNT_CHILDREN',\n",
       " 'AMT_INCOME_TOTAL',\n",
       " 'NAME_INCOME_TYPE',\n",
       " 'NAME_EDUCATION_TYPE',\n",
       " 'NAME_FAMILY_STATUS',\n",
       " 'NAME_HOUSING_TYPE',\n",
       " 'DAYS_BIRTH',\n",
       " 'DAYS_EMPLOYED',\n",
       " 'FLAG_MOBIL',\n",
       " 'FLAG_WORK_PHONE',\n",
       " 'FLAG_PHONE',\n",
       " 'FLAG_EMAIL',\n",
       " 'OCCUPATION_TYPE',\n",
       " 'CNT_FAM_MEMBERS']"
      ]
     },
     "execution_count": 50,
     "metadata": {},
     "output_type": "execute_result"
    }
   ],
   "source": [
    "list(df_application_record)"
   ]
  },
  {
   "cell_type": "code",
   "execution_count": 52,
   "id": "035f66b5",
   "metadata": {},
   "outputs": [],
   "source": [
    "cat_attribs = [\n",
    "    'ID', 'CODE_GENDER', 'FLAG_OWN_CAR', 'FLAG_OWN_REALTY', 'NAME_INCOME_TYPE',\n",
    "    'NAME_EDUCATION_TYPE', 'NAME_FAMILY_STATUS', 'NAME_HOUSING_TYPE', 'FLAG_MOBIL',\n",
    "    'FLAG_WORK_PHONE', 'FLAG_PHONE', 'FLAG_EMAIL', 'OCCUPATION_TYPE']\n",
    "num_attribs = [\n",
    " 'CNT_CHILDREN', 'AMT_INCOME_TOTAL', 'DAYS_BIRTH', 'DAYS_EMPLOYED', 'CNT_FAM_MEMBERS']"
   ]
  },
  {
   "cell_type": "code",
   "execution_count": 56,
   "id": "dc83c0fc",
   "metadata": {},
   "outputs": [],
   "source": [
    "df_ar_cat = df_application_record[cat_attribs]\n",
    "df_ar_num = df_application_record[num_attribs]"
   ]
  },
  {
   "cell_type": "markdown",
   "id": "5f32ec18",
   "metadata": {},
   "source": [
    "#### Atributos numéricos"
   ]
  },
  {
   "cell_type": "code",
   "execution_count": 49,
   "id": "c8ad8a55",
   "metadata": {},
   "outputs": [
    {
     "data": {
      "text/html": [
       "<div>\n",
       "<style scoped>\n",
       "    .dataframe tbody tr th:only-of-type {\n",
       "        vertical-align: middle;\n",
       "    }\n",
       "\n",
       "    .dataframe tbody tr th {\n",
       "        vertical-align: top;\n",
       "    }\n",
       "\n",
       "    .dataframe thead th {\n",
       "        text-align: right;\n",
       "    }\n",
       "</style>\n",
       "<table border=\"1\" class=\"dataframe\">\n",
       "  <thead>\n",
       "    <tr style=\"text-align: right;\">\n",
       "      <th></th>\n",
       "      <th>ID</th>\n",
       "      <th>CNT_CHILDREN</th>\n",
       "      <th>AMT_INCOME_TOTAL</th>\n",
       "      <th>DAYS_BIRTH</th>\n",
       "      <th>DAYS_EMPLOYED</th>\n",
       "      <th>FLAG_MOBIL</th>\n",
       "      <th>FLAG_WORK_PHONE</th>\n",
       "      <th>FLAG_PHONE</th>\n",
       "      <th>FLAG_EMAIL</th>\n",
       "      <th>CNT_FAM_MEMBERS</th>\n",
       "    </tr>\n",
       "  </thead>\n",
       "  <tbody>\n",
       "    <tr>\n",
       "      <th>count</th>\n",
       "      <td>438557.00</td>\n",
       "      <td>438557.00</td>\n",
       "      <td>438557.00</td>\n",
       "      <td>438557.00</td>\n",
       "      <td>438557.00</td>\n",
       "      <td>438557.00</td>\n",
       "      <td>438557.00</td>\n",
       "      <td>438557.00</td>\n",
       "      <td>438557.00</td>\n",
       "      <td>438557.00</td>\n",
       "    </tr>\n",
       "    <tr>\n",
       "      <th>mean</th>\n",
       "      <td>6022176.27</td>\n",
       "      <td>0.43</td>\n",
       "      <td>187524.29</td>\n",
       "      <td>-15997.90</td>\n",
       "      <td>60563.68</td>\n",
       "      <td>1.00</td>\n",
       "      <td>0.21</td>\n",
       "      <td>0.29</td>\n",
       "      <td>0.11</td>\n",
       "      <td>2.19</td>\n",
       "    </tr>\n",
       "    <tr>\n",
       "      <th>std</th>\n",
       "      <td>571637.02</td>\n",
       "      <td>0.72</td>\n",
       "      <td>110086.85</td>\n",
       "      <td>4185.03</td>\n",
       "      <td>138767.80</td>\n",
       "      <td>0.00</td>\n",
       "      <td>0.40</td>\n",
       "      <td>0.45</td>\n",
       "      <td>0.31</td>\n",
       "      <td>0.90</td>\n",
       "    </tr>\n",
       "    <tr>\n",
       "      <th>min</th>\n",
       "      <td>5008804.00</td>\n",
       "      <td>0.00</td>\n",
       "      <td>26100.00</td>\n",
       "      <td>-25201.00</td>\n",
       "      <td>-17531.00</td>\n",
       "      <td>1.00</td>\n",
       "      <td>0.00</td>\n",
       "      <td>0.00</td>\n",
       "      <td>0.00</td>\n",
       "      <td>1.00</td>\n",
       "    </tr>\n",
       "    <tr>\n",
       "      <th>25%</th>\n",
       "      <td>5609375.00</td>\n",
       "      <td>0.00</td>\n",
       "      <td>121500.00</td>\n",
       "      <td>-19483.00</td>\n",
       "      <td>-3103.00</td>\n",
       "      <td>1.00</td>\n",
       "      <td>0.00</td>\n",
       "      <td>0.00</td>\n",
       "      <td>0.00</td>\n",
       "      <td>2.00</td>\n",
       "    </tr>\n",
       "    <tr>\n",
       "      <th>50%</th>\n",
       "      <td>6047745.00</td>\n",
       "      <td>0.00</td>\n",
       "      <td>160780.50</td>\n",
       "      <td>-15630.00</td>\n",
       "      <td>-1467.00</td>\n",
       "      <td>1.00</td>\n",
       "      <td>0.00</td>\n",
       "      <td>0.00</td>\n",
       "      <td>0.00</td>\n",
       "      <td>2.00</td>\n",
       "    </tr>\n",
       "    <tr>\n",
       "      <th>75%</th>\n",
       "      <td>6456971.00</td>\n",
       "      <td>1.00</td>\n",
       "      <td>225000.00</td>\n",
       "      <td>-12514.00</td>\n",
       "      <td>-371.00</td>\n",
       "      <td>1.00</td>\n",
       "      <td>0.00</td>\n",
       "      <td>1.00</td>\n",
       "      <td>0.00</td>\n",
       "      <td>3.00</td>\n",
       "    </tr>\n",
       "    <tr>\n",
       "      <th>max</th>\n",
       "      <td>7999952.00</td>\n",
       "      <td>19.00</td>\n",
       "      <td>6750000.00</td>\n",
       "      <td>-7489.00</td>\n",
       "      <td>365243.00</td>\n",
       "      <td>1.00</td>\n",
       "      <td>1.00</td>\n",
       "      <td>1.00</td>\n",
       "      <td>1.00</td>\n",
       "      <td>20.00</td>\n",
       "    </tr>\n",
       "  </tbody>\n",
       "</table>\n",
       "</div>"
      ],
      "text/plain": [
       "              ID  CNT_CHILDREN  AMT_INCOME_TOTAL  DAYS_BIRTH  DAYS_EMPLOYED  \\\n",
       "count  438557.00     438557.00         438557.00   438557.00      438557.00   \n",
       "mean  6022176.27          0.43         187524.29   -15997.90       60563.68   \n",
       "std    571637.02          0.72         110086.85     4185.03      138767.80   \n",
       "min   5008804.00          0.00          26100.00   -25201.00      -17531.00   \n",
       "25%   5609375.00          0.00         121500.00   -19483.00       -3103.00   \n",
       "50%   6047745.00          0.00         160780.50   -15630.00       -1467.00   \n",
       "75%   6456971.00          1.00         225000.00   -12514.00        -371.00   \n",
       "max   7999952.00         19.00        6750000.00    -7489.00      365243.00   \n",
       "\n",
       "       FLAG_MOBIL  FLAG_WORK_PHONE  FLAG_PHONE  FLAG_EMAIL  CNT_FAM_MEMBERS  \n",
       "count   438557.00        438557.00   438557.00   438557.00        438557.00  \n",
       "mean         1.00             0.21        0.29        0.11             2.19  \n",
       "std          0.00             0.40        0.45        0.31             0.90  \n",
       "min          1.00             0.00        0.00        0.00             1.00  \n",
       "25%          1.00             0.00        0.00        0.00             2.00  \n",
       "50%          1.00             0.00        0.00        0.00             2.00  \n",
       "75%          1.00             0.00        1.00        0.00             3.00  \n",
       "max          1.00             1.00        1.00        1.00            20.00  "
      ]
     },
     "execution_count": 49,
     "metadata": {},
     "output_type": "execute_result"
    }
   ],
   "source": [
    "pd.options.display.float_format = \"{:.2f}\".format  # Alterando o formato de exibição do pandas para evitar notação científica.\n",
    "df_application_record.describe()"
   ]
  }
 ],
 "metadata": {
  "kernelspec": {
   "display_name": "Python 3",
   "language": "python",
   "name": "python3"
  },
  "language_info": {
   "codemirror_mode": {
    "name": "ipython",
    "version": 3
   },
   "file_extension": ".py",
   "mimetype": "text/x-python",
   "name": "python",
   "nbconvert_exporter": "python",
   "pygments_lexer": "ipython3",
   "version": "3.8.8"
  }
 },
 "nbformat": 4,
 "nbformat_minor": 5
}
